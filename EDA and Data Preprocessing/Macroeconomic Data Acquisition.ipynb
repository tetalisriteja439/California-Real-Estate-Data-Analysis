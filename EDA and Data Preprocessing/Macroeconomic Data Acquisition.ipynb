{
 "cells": [
  {
   "cell_type": "code",
   "execution_count": 69,
   "metadata": {},
   "outputs": [],
   "source": [
    "import pandas as pd"
   ]
  },
  {
   "cell_type": "code",
   "execution_count": 70,
   "metadata": {},
   "outputs": [],
   "source": [
    "df=pd.read_csv('./data.csv')"
   ]
  },
  {
   "cell_type": "code",
   "execution_count": 71,
   "metadata": {},
   "outputs": [
    {
     "name": "stdout",
     "output_type": "stream",
     "text": [
      "<class 'pandas.core.frame.DataFrame'>\n",
      "RangeIndex: 399 entries, 0 to 398\n",
      "Data columns (total 61 columns):\n",
      " #   Column           Non-Null Count  Dtype  \n",
      "---  ------           --------------  -----  \n",
      " 0   Mon-Yr           399 non-null    object \n",
      " 1   CA               399 non-null    float64\n",
      " 2   Alameda          399 non-null    float64\n",
      " 3   Amador           229 non-null    float64\n",
      " 4   Butte            399 non-null    float64\n",
      " 5   Calaveras        267 non-null    float64\n",
      " 6   Contra-Costa     207 non-null    float64\n",
      " 7   Del Norte        171 non-null    float64\n",
      " 8   El Dorado        171 non-null    float64\n",
      " 9   Fresno           399 non-null    float64\n",
      " 10  Glenn            207 non-null    float64\n",
      " 11  Humboldt         399 non-null    float64\n",
      " 12  Kern             399 non-null    float64\n",
      " 13  Kings            207 non-null    float64\n",
      " 14  Lake             351 non-null    float64\n",
      " 15  Lassen           87 non-null     float64\n",
      " 16  Los Angeles      399 non-null    float64\n",
      " 17  Madera           183 non-null    float64\n",
      " 18  Marin            399 non-null    float64\n",
      " 19  Mariposa         243 non-null    float64\n",
      " 20  Mendocino        397 non-null    float64\n",
      " 21  Merced           399 non-null    float64\n",
      " 22  Mono             220 non-null    float64\n",
      " 23  Monterey         399 non-null    float64\n",
      " 24  Napa             399 non-null    float64\n",
      " 25  Nevada           267 non-null    float64\n",
      " 26  Orange           399 non-null    float64\n",
      " 27  Placer           399 non-null    float64\n",
      " 28  Plumas           115 non-null    float64\n",
      " 29  Riverside        399 non-null    float64\n",
      " 30  Sacramento       399 non-null    float64\n",
      " 31  San Benito       291 non-null    float64\n",
      " 32  San Bernardino   399 non-null    float64\n",
      " 33  San Diego        399 non-null    float64\n",
      " 34  San Francisco    399 non-null    float64\n",
      " 35  San Joaquin      382 non-null    float64\n",
      " 36  San Luis Obispo  399 non-null    float64\n",
      " 37  San Mateo        387 non-null    float64\n",
      " 38  Santa Barbara    399 non-null    float64\n",
      " 39  Santa Clara      399 non-null    float64\n",
      " 40  Santa Cruz       398 non-null    float64\n",
      " 41  Shasta           315 non-null    float64\n",
      " 42  Siskiyou         375 non-null    float64\n",
      " 43  Solano           350 non-null    float64\n",
      " 44  Sonoma           399 non-null    float64\n",
      " 45  Stanislaus       359 non-null    float64\n",
      " 46  Sutter           204 non-null    float64\n",
      " 47  Tehama           186 non-null    float64\n",
      " 48  Tulare           323 non-null    float64\n",
      " 49  Tuolumne         243 non-null    float64\n",
      " 50  Ventura          399 non-null    float64\n",
      " 51  Yolo             171 non-null    float64\n",
      " 52  Yuba             204 non-null    float64\n",
      " 53  Condo            399 non-null    float64\n",
      " 54  LA Metro         399 non-null    float64\n",
      " 55  Central Coast    315 non-null    float64\n",
      " 56  Central Valley   171 non-null    float64\n",
      " 57  Far North        87 non-null     float64\n",
      " 58  Inland Empire    303 non-null    float64\n",
      " 59  S.F. Bay Area    399 non-null    float64\n",
      " 60  SoCal            339 non-null    float64\n",
      "dtypes: float64(60), object(1)\n",
      "memory usage: 190.3+ KB\n"
     ]
    }
   ],
   "source": [
    "df.info()"
   ]
  },
  {
   "cell_type": "markdown",
   "metadata": {},
   "source": [
    "### Scraping data for top 10 populus counties"
   ]
  },
  {
   "cell_type": "code",
   "execution_count": 72,
   "metadata": {},
   "outputs": [],
   "source": [
    "pop=pd.read_excel(\"./Population_county.xlsx\")"
   ]
  },
  {
   "cell_type": "code",
   "execution_count": 73,
   "metadata": {},
   "outputs": [
    {
     "data": {
      "text/html": [
       "<div>\n",
       "<style scoped>\n",
       "    .dataframe tbody tr th:only-of-type {\n",
       "        vertical-align: middle;\n",
       "    }\n",
       "\n",
       "    .dataframe tbody tr th {\n",
       "        vertical-align: top;\n",
       "    }\n",
       "\n",
       "    .dataframe thead th {\n",
       "        text-align: right;\n",
       "    }\n",
       "</style>\n",
       "<table border=\"1\" class=\"dataframe\">\n",
       "  <thead>\n",
       "    <tr style=\"text-align: right;\">\n",
       "      <th></th>\n",
       "      <th>Rank</th>\n",
       "      <th>County</th>\n",
       "      <th>Population</th>\n",
       "    </tr>\n",
       "  </thead>\n",
       "  <tbody>\n",
       "    <tr>\n",
       "      <th>0</th>\n",
       "      <td>1.0</td>\n",
       "      <td>Los Angeles</td>\n",
       "      <td>10019635.0</td>\n",
       "    </tr>\n",
       "    <tr>\n",
       "      <th>1</th>\n",
       "      <td>2.0</td>\n",
       "      <td>San Diego</td>\n",
       "      <td>3296317.0</td>\n",
       "    </tr>\n",
       "    <tr>\n",
       "      <th>2</th>\n",
       "      <td>3.0</td>\n",
       "      <td>Orange</td>\n",
       "      <td>3182923.0</td>\n",
       "    </tr>\n",
       "    <tr>\n",
       "      <th>3</th>\n",
       "      <td>4.0</td>\n",
       "      <td>Riverside</td>\n",
       "      <td>2409331.0</td>\n",
       "    </tr>\n",
       "    <tr>\n",
       "      <th>4</th>\n",
       "      <td>5.0</td>\n",
       "      <td>San Bernardino</td>\n",
       "      <td>2171071.0</td>\n",
       "    </tr>\n",
       "    <tr>\n",
       "      <th>5</th>\n",
       "      <td>6.0</td>\n",
       "      <td>Santa Clara</td>\n",
       "      <td>1932022.0</td>\n",
       "    </tr>\n",
       "    <tr>\n",
       "      <th>6</th>\n",
       "      <td>7.0</td>\n",
       "      <td>Alameda</td>\n",
       "      <td>1673133.0</td>\n",
       "    </tr>\n",
       "    <tr>\n",
       "      <th>7</th>\n",
       "      <td>8.0</td>\n",
       "      <td>Sacramento</td>\n",
       "      <td>1571767.0</td>\n",
       "    </tr>\n",
       "    <tr>\n",
       "      <th>8</th>\n",
       "      <td>9.0</td>\n",
       "      <td>Contra Costa</td>\n",
       "      <td>1161643.0</td>\n",
       "    </tr>\n",
       "    <tr>\n",
       "      <th>9</th>\n",
       "      <td>10.0</td>\n",
       "      <td>Fresno</td>\n",
       "      <td>1003150.0</td>\n",
       "    </tr>\n",
       "  </tbody>\n",
       "</table>\n",
       "</div>"
      ],
      "text/plain": [
       "   Rank          County  Population\n",
       "0   1.0     Los Angeles  10019635.0\n",
       "1   2.0       San Diego   3296317.0\n",
       "2   3.0          Orange   3182923.0\n",
       "3   4.0       Riverside   2409331.0\n",
       "4   5.0  San Bernardino   2171071.0\n",
       "5   6.0     Santa Clara   1932022.0\n",
       "6   7.0         Alameda   1673133.0\n",
       "7   8.0      Sacramento   1571767.0\n",
       "8   9.0    Contra Costa   1161643.0\n",
       "9  10.0          Fresno   1003150.0"
      ]
     },
     "execution_count": 73,
     "metadata": {},
     "output_type": "execute_result"
    }
   ],
   "source": [
    "pop.iloc[:10,:3]"
   ]
  },
  {
   "cell_type": "code",
   "execution_count": 74,
   "metadata": {},
   "outputs": [],
   "source": [
    "rates=df.loc[:,['Mon-Yr','Los Angeles','San Diego','Orange','Riverside','San Bernardino','Santa Clara','Alameda','Sacramento','Contra-Costa','Fresno']]"
   ]
  },
  {
   "cell_type": "code",
   "execution_count": 75,
   "metadata": {},
   "outputs": [
    {
     "data": {
      "text/plain": [
       "0      Jan-90\n",
       "1      Feb-90\n",
       "2      Mar-90\n",
       "3      Apr-90\n",
       "4      May-90\n",
       "        ...  \n",
       "187    Aug-05\n",
       "188    Sep-05\n",
       "189    Oct-05\n",
       "190    Nov-05\n",
       "191    Dec-05\n",
       "Name: Mon-Yr, Length: 192, dtype: object"
      ]
     },
     "execution_count": 75,
     "metadata": {},
     "output_type": "execute_result"
    }
   ],
   "source": [
    "rates[rates['Contra-Costa'].isna()==True]['Mon-Yr']"
   ]
  },
  {
   "cell_type": "markdown",
   "metadata": {},
   "source": [
    "So, Until December 2005, there are no values for Contra-Costa"
   ]
  },
  {
   "cell_type": "code",
   "execution_count": 77,
   "metadata": {},
   "outputs": [
    {
     "name": "stdout",
     "output_type": "stream",
     "text": [
      "<class 'pandas.core.frame.DataFrame'>\n",
      "RangeIndex: 399 entries, 0 to 398\n",
      "Data columns (total 11 columns):\n",
      " #   Column          Non-Null Count  Dtype  \n",
      "---  ------          --------------  -----  \n",
      " 0   Mon-Yr          399 non-null    object \n",
      " 1   Los Angeles     399 non-null    float64\n",
      " 2   San Diego       399 non-null    float64\n",
      " 3   Orange          399 non-null    float64\n",
      " 4   Riverside       399 non-null    float64\n",
      " 5   San Bernardino  399 non-null    float64\n",
      " 6   Santa Clara     399 non-null    float64\n",
      " 7   Alameda         399 non-null    float64\n",
      " 8   Sacramento      399 non-null    float64\n",
      " 9   Contra-Costa    207 non-null    float64\n",
      " 10  Fresno          399 non-null    float64\n",
      "dtypes: float64(10), object(1)\n",
      "memory usage: 34.4+ KB\n"
     ]
    }
   ],
   "source": [
    "rates.info()"
   ]
  },
  {
   "cell_type": "code",
   "execution_count": 78,
   "metadata": {},
   "outputs": [],
   "source": [
    "rates['Date']=pd.to_datetime(rates['Mon-Yr'],format=\"%b-%y\")"
   ]
  },
  {
   "cell_type": "code",
   "execution_count": 79,
   "metadata": {},
   "outputs": [],
   "source": [
    "rates=rates.drop(columns='Mon-Yr')"
   ]
  },
  {
   "cell_type": "code",
   "execution_count": 80,
   "metadata": {},
   "outputs": [],
   "source": [
    "rates=rates.set_index('Date')"
   ]
  },
  {
   "cell_type": "code",
   "execution_count": 82,
   "metadata": {},
   "outputs": [],
   "source": [
    "rates.to_csv('./Rates_Top_10_1.csv')"
   ]
  },
  {
   "cell_type": "code",
   "execution_count": 83,
   "metadata": {},
   "outputs": [],
   "source": [
    "rates.transpose().to_csv('./Rates_Top_10.csv')"
   ]
  },
  {
   "cell_type": "code",
   "execution_count": 84,
   "metadata": {},
   "outputs": [],
   "source": [
    "df['Date']=pd.to_datetime(df['Mon-Yr'],format=\"%b-%y\")\n",
    "df=df.drop(columns='Mon-Yr')\n",
    "df=df.set_index('Date')\n",
    "df.transpose().to_csv('./df_Top_10_2.csv')"
   ]
  }
 ],
 "metadata": {
  "kernelspec": {
   "display_name": "Python 3",
   "language": "python",
   "name": "python3"
  },
  "language_info": {
   "codemirror_mode": {
    "name": "ipython",
    "version": 3
   },
   "file_extension": ".py",
   "mimetype": "text/x-python",
   "name": "python",
   "nbconvert_exporter": "python",
   "pygments_lexer": "ipython3",
   "version": "3.8.3"
  }
 },
 "nbformat": 4,
 "nbformat_minor": 5
}
